{
 "cells": [
  {
   "cell_type": "markdown",
   "metadata": {},
   "source": [
    "1. 你当前正在编写的代码的哪些部分可以“学习”，即通过学习和自动确定代码中所做的设计选择来改进？你的代码是否包含启发式设计选择？\n",
    "   比赛的时候用于求解磺基水杨酸合铜的结构的那个程序。初始很重要，可以学习到合适的“初始值”？"
   ]
  },
  {
   "cell_type": "markdown",
   "metadata": {
    "vscode": {
     "languageId": "plaintext"
    }
   },
   "source": [
    "2. 你遇到的哪些问题有许多解决它们的样本，但没有具体的自动化方法？这些可能是使用深度学习的主要候选者。\n",
    "- 分子结构和光谱信息之间的关系？不过似乎已经有很多相关基于物理和化学知识的模拟软件了。（DDACAT是用离散偶极近似做的，但是那个输出实在是太像深度学习了）\n",
    "- 根据图片判断实验状态？这个是电子实验记录本里需要的东西"
   ]
  },
  {
   "cell_type": "markdown",
   "metadata": {},
   "source": [
    "3. 如果把人工智能的发展看作一场新的工业革命，那么算法和数据之间的关系是什么？它类似于蒸汽机和煤吗？根本区别是什么？\n",
    "\n",
    "    算法通过数据学习，找到最优的权重。数据是算法运行的必要条件。但是算法不会“消耗”数据，算法/模型运行的结果，可以进一步用于模型的训练。"
   ]
  },
  {
   "cell_type": "markdown",
   "metadata": {},
   "source": [
    "4. 你还可以在哪里应用端到端的训练方法，比如图1-2 、物理、工程和计量经济学？\n",
    "- 化学实验条件的探索，例如什么催化剂，什么反应物浓度能让反应速率最大，产率最高\n",
    "- 分子物理化学性质的预测"
   ]
  }
 ],
 "metadata": {
  "kernelspec": {
   "display_name": "d2l",
   "language": "python",
   "name": "python3"
  },
  "language_info": {
   "codemirror_mode": {
    "name": "ipython",
    "version": 3
   },
   "file_extension": ".py",
   "mimetype": "text/x-python",
   "name": "python",
   "nbconvert_exporter": "python",
   "pygments_lexer": "ipython3",
   "version": "3.9.21"
  }
 },
 "nbformat": 4,
 "nbformat_minor": 2
}
