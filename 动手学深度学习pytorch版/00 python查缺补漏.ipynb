{
 "cells": [
  {
   "cell_type": "code",
   "execution_count": 6,
   "metadata": {},
   "outputs": [
    {
     "name": "stdout",
     "output_type": "stream",
     "text": [
      "1\n",
      "2\n",
      "3\n",
      "0\n",
      "1\n",
      "1\n",
      "2\n",
      "3\n",
      "0\n",
      "1\n",
      "2\n"
     ]
    }
   ],
   "source": [
    "# 在 Python 中，`yield` 是一个关键字，用于定义生成器函数。\n",
    "# 生成器函数与普通函数的区别在于，它不会一次性返回所有结果，而是每次调用时返回一个值，并记住函数的执行状态。\n",
    "# 生成器函数通过 `yield` 语句将值返回给调用者，并在下一次调用时从上次暂停的地方继续执行。\n",
    "\n",
    "# 示例 1：简单的生成器函数\n",
    "def simple_generator():\n",
    "    yield 1  # 第一次调用生成器时返回 1\n",
    "    yield 2  # 第二次调用生成器时返回 2\n",
    "    yield 3  # 第三次调用生成器时返回 3\n",
    "\n",
    "# 创建生成器对象\n",
    "gen = simple_generator()\n",
    "\n",
    "# 使用 next() 获取生成器的值\n",
    "print(next(gen))  # 输出: 1\n",
    "print(next(gen))  # 输出: 2\n",
    "print(next(gen))  # 输出: 3\n",
    "# print(next(gen))  # 如果继续调用，将引发 StopIteration 异常\n",
    "\n",
    "# 示例 2：生成器函数的应用 - 生成斐波那契数列\n",
    "def fibonacci(n):\n",
    "    a, b = 0, 1\n",
    "    for _ in range(n):\n",
    "        yield a  # 每次返回当前的斐波那契数\n",
    "        a, b = b, a + b  # 更新为下一个斐波那契数\n",
    "\n",
    "# 创建生成器对象\n",
    "fib_gen = fibonacci(5)\n",
    "\n",
    "# 使用 for 循环遍历生成器\n",
    "for num in fib_gen:\n",
    "    print(num)  # 输出: 0, 1, 1, 2, 3\n",
    "\n",
    "# 示例 3：生成器的惰性求值特性\n",
    "# 生成器不会一次性生成所有值，而是按需生成，这使得它非常适合处理大数据或无限序列。\n",
    "def infinite_sequence():\n",
    "    num = 0\n",
    "    while True:\n",
    "        yield num  # 每次返回当前值\n",
    "        num += 1  # 增加 1\n",
    "\n",
    "# 创建生成器对象\n",
    "infinite_gen = infinite_sequence()\n",
    "\n",
    "# 获取生成器的前几个值\n",
    "print(next(infinite_gen))  # 输出: 0\n",
    "print(next(infinite_gen))  # 输出: 1\n",
    "print(next(infinite_gen))  # 输出: 2"
   ]
  },
  {
   "cell_type": "code",
   "execution_count": 5,
   "metadata": {},
   "outputs": [
    {
     "name": "stdout",
     "output_type": "stream",
     "text": [
      "<class 'list_iterator'>\n",
      "10\n",
      "20\n",
      "30\n",
      "0\n",
      "1\n",
      "2\n"
     ]
    }
   ],
   "source": [
    "# 迭代器（Iterator）是一个可以记住遍历位置的对象。\n",
    "# 迭代器对象从集合的第一个元素开始访问，直到所有的元素被访问完结束。\n",
    "# 迭代器只能往前不会后退。\n",
    "# 迭代器对象是实现了 __iter__() 和 __next__() 方法的对象。\n",
    "\n",
    "# 示例：创建一个迭代器对象\n",
    "# 使用 iter() 函数将可迭代对象（如列表）转换为迭代器对象\n",
    "my_list = [10, 20, 30]\n",
    "iterator_obj = iter(my_list)  # 迭代器对象\n",
    "print(type(iterator_obj))  # 输出: <class 'list_iterator'>\n",
    "\n",
    "# 使用 next() 方法获取迭代器的下一个元素\n",
    "print(next(iterator_obj))  # 输出: 10\n",
    "print(next(iterator_obj))  # 输出: 20\n",
    "print(next(iterator_obj))  # 输出: 30\n",
    "# 如果继续调用 next()，将会引发 StopIteration 异常\n",
    "\n",
    "# 示例：自定义一个迭代器对象\n",
    "# 通过创建一个类并实现 __iter__() 和 __next__() 方法来自定义迭代器\n",
    "class MyIterator:\n",
    "    def __init__(self, max_value):\n",
    "        self.max_value = max_value\n",
    "        self.current = 0\n",
    "\n",
    "    def __iter__(self):\n",
    "        return self  # 返回迭代器对象本身\n",
    "\n",
    "    def __next__(self):\n",
    "        if self.current < self.max_value:\n",
    "            self.current += 1\n",
    "            return self.current - 1\n",
    "        else:\n",
    "            raise StopIteration  # 当没有更多元素时，抛出 StopIteration 异常\n",
    "\n",
    "# 创建自定义迭代器对象\n",
    "custom_iterator = MyIterator(3)\n",
    "print(next(custom_iterator))  # 输出: 0\n",
    "print(next(custom_iterator))  # 输出: 1\n",
    "print(next(custom_iterator))  # 输出: 2\n",
    "# print(next(custom_iterator))  # 如果继续调用，将引发 StopIteration 异常"
   ]
  },
  {
   "cell_type": "code",
   "execution_count": 1,
   "metadata": {},
   "outputs": [
    {
     "name": "stdout",
     "output_type": "stream",
     "text": [
      "1\n",
      "2\n",
      "3\n",
      "1\n",
      "2\n",
      "3\n",
      "No more elements\n",
      "a\n",
      "b\n",
      "c\n"
     ]
    }
   ],
   "source": [
    "# Python 中的 next() 函数用于从迭代器中获取下一个元素。\n",
    "# 如果迭代器中没有更多的元素，则会引发 StopIteration 异常。\n",
    "# next() 函数的基本语法为：\n",
    "# next(iterator[, default])\n",
    "# - iterator: 必须是一个迭代器对象。\n",
    "# - default: 可选参数。如果提供了 default，当迭代器耗尽时不会引发异常，而是返回 default 的值。\n",
    "\n",
    "# 示例 1：从迭代器中获取下一个元素\n",
    "iterator = iter([1, 2, 3])  # 创建一个列表的迭代器\n",
    "print(next(iterator))  # 输出: 1\n",
    "print(next(iterator))  # 输出: 2\n",
    "print(next(iterator))  # 输出: 3\n",
    "# print(next(iterator))  # 如果继续调用，将引发 StopIteration 异常\n",
    "\n",
    "# 示例 2：使用 default 参数避免异常\n",
    "iterator = iter([1, 2, 3])\n",
    "print(next(iterator, 'No more elements'))  # 输出: 1\n",
    "print(next(iterator, 'No more elements'))  # 输出: 2\n",
    "print(next(iterator, 'No more elements'))  # 输出: 3\n",
    "print(next(iterator, 'No more elements'))  # 输出: No more elements\n",
    "\n",
    "# 示例 3：结合生成器使用 next()\n",
    "def my_generator():\n",
    "    yield 'a'\n",
    "    yield 'b'\n",
    "    yield 'c'\n",
    "\n",
    "gen = my_generator()\n",
    "print(next(gen))  # 输出: a\n",
    "print(next(gen))  # 输出: b\n",
    "print(next(gen))  # 输出: c\n",
    "# print(next(gen))  # 如果继续调用，将引发 StopIteration 异常"
   ]
  },
  {
   "cell_type": "code",
   "execution_count": 2,
   "metadata": {},
   "outputs": [
    {
     "name": "stdout",
     "output_type": "stream",
     "text": [
      "[(1, 'a'), (2, 'b'), (3, 'c')]\n",
      "[(1, 2, 3), ('a', 'b', 'c')]\n",
      "[(1, 10), (2, 20)]\n",
      "[]\n"
     ]
    }
   ],
   "source": [
    "# zip() 是 Python 内置函数，用于将多个可迭代对象（如列表、元组等）中的元素打包成一个个元组。\n",
    "# 它返回一个迭代器，其中的每个元素是一个元组，包含来自输入可迭代对象的对应元素。\n",
    "# 如果输入的可迭代对象长度不一致，zip() 会以最短的可迭代对象为准进行打包。\n",
    "\n",
    "# 示例 1：将两个列表打包成元组\n",
    "list1 = [1, 2, 3]\n",
    "list2 = ['a', 'b', 'c']\n",
    "zipped = zip(list1, list2)  # 返回一个迭代器\n",
    "print(list(zipped))  # 输出: [(1, 'a'), (2, 'b'), (3, 'c')]\n",
    "\n",
    "# 示例 2：解压缩（解包）已打包的元组\n",
    "zipped = zip(list1, list2)\n",
    "unzipped = zip(*zipped)  # 使用 * 运算符解压\n",
    "print(list(unzipped))  # 输出: [(1, 2, 3), ('a', 'b', 'c')]\n",
    "\n",
    "# 示例 3：处理长度不一致的可迭代对象\n",
    "list3 = [10, 20]\n",
    "zipped = zip(list1, list3)  # 以最短的可迭代对象为准\n",
    "print(list(zipped))  # 输出: [(1, 10), (2, 20)]\n",
    "\n",
    "# 示例 4：结合生成器使用 zip()\n",
    "# 使用生成器 gen 和 list_iterator iterator\n",
    "zipped = zip(gen, iterator)\n",
    "print(list(zipped))  # 输出: [('a', 1), ('b', 2)]，以最短的可迭代对象为准"
   ]
  },
  {
   "cell_type": "code",
   "execution_count": 3,
   "metadata": {},
   "outputs": [
    {
     "name": "stdout",
     "output_type": "stream",
     "text": [
      "5.0\n"
     ]
    }
   ],
   "source": [
    "# 示例 1：基本用法\n",
    "# assert 表达式\n",
    "# 如果表达式为 True，程序继续执行；如果为 False，抛出 AssertionError。\n",
    "x = 10\n",
    "assert x > 5  # 断言成功，程序继续执行\n",
    "# assert x < 5  # 断言失败，抛出 AssertionError\n",
    "\n",
    "# 示例 2：带错误信息的断言\n",
    "# assert 表达式, 错误信息\n",
    "y = \"Python\"\n",
    "assert isinstance(y, str), \"y 必须是字符串\"  # 断言成功\n",
    "# assert isinstance(y, int), \"y 必须是整数\"  # 断言失败，抛出 AssertionError: y 必须是整数\n",
    "\n",
    "# 示例 3：结合函数使用\n",
    "def divide(a, b):\n",
    "    # 确保分母不为零\n",
    "    assert b != 0, \"分母不能为零\"\n",
    "    return a / b\n",
    "\n",
    "print(divide(10, 2))  # 输出: 5.0\n",
    "# print(divide(10, 0))  # 断言失败，抛出 AssertionError: 分母不能为零\n",
    "\n",
    "# 示例 4：调试阶段使用\n",
    "# assert 通常用于开发和测试阶段，生产环境中可以通过禁用断言提高性能。\n",
    "# 使用 -O 参数运行 Python 脚本时，assert 语句会被忽略。\n",
    "# python -O script.py"
   ]
  }
 ],
 "metadata": {
  "kernelspec": {
   "display_name": "d2l",
   "language": "python",
   "name": "python3"
  },
  "language_info": {
   "codemirror_mode": {
    "name": "ipython",
    "version": 3
   },
   "file_extension": ".py",
   "mimetype": "text/x-python",
   "name": "python",
   "nbconvert_exporter": "python",
   "pygments_lexer": "ipython3",
   "version": "3.9.21"
  }
 },
 "nbformat": 4,
 "nbformat_minor": 2
}
