{
 "cells": [
  {
   "cell_type": "code",
   "execution_count": 30,
   "id": "963a2531",
   "metadata": {},
   "outputs": [
    {
     "name": "stdout",
     "output_type": "stream",
     "text": [
      "ESOL(1128)\n",
      "Dataset type: <class 'torch_geometric.datasets.molecule_net.MoleculeNet'>\n",
      "Dataset features: 9\n",
      "Dataset targets: 734\n",
      "Dataset sample: Data(x=[32, 9], edge_index=[2, 68], edge_attr=[68, 3], smiles='OCC3OC(OCC2OC(OC(C#N)c1ccccc1)C(O)C(O)C2O)C(O)C(O)C3O ', y=[1, 1])\n",
      "Dataset size: 1128\n"
     ]
    },
    {
     "name": "stderr",
     "output_type": "stream",
     "text": [
      "/home/huangzy/miniconda3/envs/uplc/lib/python3.9/site-packages/torch_geometric/data/dataset.py:169: UserWarning: Found floating-point labels while calling `dataset.num_classes`. Returning the number of unique elements. Please make sure that this is expected before proceeding.\n",
      "  warnings.warn(\"Found floating-point labels while calling \"\n"
     ]
    }
   ],
   "source": [
    "from torch_geometric.datasets import MoleculeNet\n",
    "\n",
    "data = MoleculeNet(root='data/MoleculeNet', name='ESOL')\n",
    "print(data)\n",
    "\n",
    "print(f'Dataset type: {type(data)}')\n",
    "print(\"Dataset features:\", data.num_features)\n",
    "print(\"Dataset targets:\", data.num_classes)\n",
    "print(\"Dataset sample:\", data[0])\n",
    "print(\"Dataset size:\", len(data));"
   ]
  },
  {
   "cell_type": "code",
   "execution_count": 31,
   "id": "7e6d414d",
   "metadata": {},
   "outputs": [
    {
     "name": "stdout",
     "output_type": "stream",
     "text": [
      "tensor([[8, 0, 2, 5, 1, 0, 4, 0, 0],\n",
      "        [6, 0, 4, 5, 2, 0, 4, 0, 0],\n",
      "        [6, 0, 4, 5, 1, 0, 4, 0, 1],\n",
      "        [8, 0, 2, 5, 0, 0, 4, 0, 1],\n",
      "        [6, 0, 4, 5, 1, 0, 4, 0, 1],\n",
      "        [8, 0, 2, 5, 0, 0, 4, 0, 0],\n",
      "        [6, 0, 4, 5, 2, 0, 4, 0, 0],\n",
      "        [6, 0, 4, 5, 1, 0, 4, 0, 1],\n",
      "        [8, 0, 2, 5, 0, 0, 4, 0, 1],\n",
      "        [6, 0, 4, 5, 1, 0, 4, 0, 1],\n",
      "        [8, 0, 2, 5, 0, 0, 4, 0, 0],\n",
      "        [6, 0, 4, 5, 1, 0, 4, 0, 0],\n",
      "        [6, 0, 2, 5, 0, 0, 2, 0, 0],\n",
      "        [7, 0, 1, 5, 0, 0, 2, 0, 0],\n",
      "        [6, 0, 3, 5, 0, 0, 3, 1, 1],\n",
      "        [6, 0, 3, 5, 1, 0, 3, 1, 1],\n",
      "        [6, 0, 3, 5, 1, 0, 3, 1, 1],\n",
      "        [6, 0, 3, 5, 1, 0, 3, 1, 1],\n",
      "        [6, 0, 3, 5, 1, 0, 3, 1, 1],\n",
      "        [6, 0, 3, 5, 1, 0, 3, 1, 1],\n",
      "        [6, 0, 4, 5, 1, 0, 4, 0, 1],\n",
      "        [8, 0, 2, 5, 1, 0, 4, 0, 0],\n",
      "        [6, 0, 4, 5, 1, 0, 4, 0, 1],\n",
      "        [8, 0, 2, 5, 1, 0, 4, 0, 0],\n",
      "        [6, 0, 4, 5, 1, 0, 4, 0, 1],\n",
      "        [8, 0, 2, 5, 1, 0, 4, 0, 0],\n",
      "        [6, 0, 4, 5, 1, 0, 4, 0, 1],\n",
      "        [8, 0, 2, 5, 1, 0, 4, 0, 0],\n",
      "        [6, 0, 4, 5, 1, 0, 4, 0, 1],\n",
      "        [8, 0, 2, 5, 1, 0, 4, 0, 0],\n",
      "        [6, 0, 4, 5, 1, 0, 4, 0, 1],\n",
      "        [8, 0, 2, 5, 1, 0, 4, 0, 0]])\n",
      "tensor([[ 0,  1],\n",
      "        [ 1,  0],\n",
      "        [ 1,  2],\n",
      "        [ 2,  1],\n",
      "        [ 2,  3],\n",
      "        [ 2, 30],\n",
      "        [ 3,  2],\n",
      "        [ 3,  4],\n",
      "        [ 4,  3],\n",
      "        [ 4,  5],\n",
      "        [ 4, 26],\n",
      "        [ 5,  4],\n",
      "        [ 5,  6],\n",
      "        [ 6,  5],\n",
      "        [ 6,  7],\n",
      "        [ 7,  6],\n",
      "        [ 7,  8],\n",
      "        [ 7, 24],\n",
      "        [ 8,  7],\n",
      "        [ 8,  9],\n",
      "        [ 9,  8],\n",
      "        [ 9, 10],\n",
      "        [ 9, 20],\n",
      "        [10,  9],\n",
      "        [10, 11],\n",
      "        [11, 10],\n",
      "        [11, 12],\n",
      "        [11, 14],\n",
      "        [12, 11],\n",
      "        [12, 13],\n",
      "        [13, 12],\n",
      "        [14, 11],\n",
      "        [14, 15],\n",
      "        [14, 19],\n",
      "        [15, 14],\n",
      "        [15, 16],\n",
      "        [16, 15],\n",
      "        [16, 17],\n",
      "        [17, 16],\n",
      "        [17, 18],\n",
      "        [18, 17],\n",
      "        [18, 19],\n",
      "        [19, 14],\n",
      "        [19, 18],\n",
      "        [20,  9],\n",
      "        [20, 21],\n",
      "        [20, 22],\n",
      "        [21, 20],\n",
      "        [22, 20],\n",
      "        [22, 23],\n",
      "        [22, 24],\n",
      "        [23, 22],\n",
      "        [24,  7],\n",
      "        [24, 22],\n",
      "        [24, 25],\n",
      "        [25, 24],\n",
      "        [26,  4],\n",
      "        [26, 27],\n",
      "        [26, 28],\n",
      "        [27, 26],\n",
      "        [28, 26],\n",
      "        [28, 29],\n",
      "        [28, 30],\n",
      "        [29, 28],\n",
      "        [30,  2],\n",
      "        [30, 28],\n",
      "        [30, 31],\n",
      "        [31, 30]])\n",
      "tensor([[-0.7700]])\n"
     ]
    }
   ],
   "source": [
    "print(data[0].x)\n",
    "print(data[0].edge_index.T)\n",
    "print(data[0].y)"
   ]
  },
  {
   "cell_type": "code",
   "execution_count": 32,
   "id": "5d16219a",
   "metadata": {},
   "outputs": [
    {
     "name": "stdout",
     "output_type": "stream",
     "text": [
      "Molecule SMILES: OCC3OC(OCC2OC(OC(C#N)c1ccccc1)C(O)C(O)C2O)C(O)C(O)C3O \n",
      "Type of molecule: <class 'rdkit.Chem.rdchem.Mol'>\n"
     ]
    },
    {
     "data": {
      "image/png": "[encoded data removed]",
      "text/plain": [
       "<PIL.PngImagePlugin.PngImageFile image mode=RGB size=300x300 at 0x7D16D810C0D0>"
      ]
     },
     "execution_count": 32,
     "metadata": {},
     "output_type": "execute_result"
    }
   ],
   "source": [
    "from rdkit import Chem\n",
    "from rdkit.Chem import Draw\n",
    "\n",
    "molecule = Chem.MolFromSmiles(data[0][\"smiles\"])\n",
    "\n",
    "print(\"Molecule SMILES:\", data[0][\"smiles\"])\n",
    "print(\"Type of molecule:\", type(molecule))\n",
    "Draw.MolToImage(molecule, size=(300, 300))"
   ]
  },
  {
   "cell_type": "code",
   "execution_count": 33,
   "id": "f6dc1b3e",
   "metadata": {},
   "outputs": [
    {
     "name": "stdout",
     "output_type": "stream",
     "text": [
      "GCN(\n",
      "  (initial_conv): GCNConv(9, 64)\n",
      "  (conv1): GCNConv(64, 64)\n",
      "  (conv2): GCNConv(64, 64)\n",
      "  (conv3): GCNConv(64, 64)\n",
      "  (out): Linear(in_features=128, out_features=1, bias=True)\n",
      ")\n"
     ]
    }
   ],
   "source": [
    "import torch\n",
    "import torch.nn as nn\n",
    "from torch.nn import  Linear\n",
    "\n",
    "from torch_geometric.nn import GCNConv\n",
    "from torch_geometric.nn import global_mean_pool as gmp, global_max_pool as gap \n",
    "\n",
    "embedding_size = 64\n",
    "\n",
    "\n",
    "class GCN(nn.Module):\n",
    "    def __init__(self):\n",
    "        super().__init__()\n",
    "        torch.manual_seed(42)\n",
    "\n",
    "        self.initial_conv = GCNConv(data.num_features, embedding_size)\n",
    "        self.conv1 = GCNConv(embedding_size, embedding_size)\n",
    "        self.conv2 = GCNConv(embedding_size, embedding_size)\n",
    "        self.conv3 = GCNConv(embedding_size, embedding_size)\n",
    "\n",
    "        self.out = Linear(embedding_size * 2, 1)\n",
    "\n",
    "    def forward(self, x, edge_index, batch_index):\n",
    "        hidden = self.initial_conv(x, edge_index)\n",
    "        hidden = hidden.tanh()\n",
    "\n",
    "        hidden = self.conv1(hidden, edge_index)\n",
    "        hidden = hidden.tanh()   # 修复：使用torch.tanh()\n",
    "        hidden = self.conv2(hidden, edge_index)\n",
    "        hidden = hidden.tanh()   # 修复：使用torch.tanh()\n",
    "        hidden = self.conv3(hidden, edge_index)\n",
    "        hidden = hidden.tanh()   # 修复：使用torch.tanh()\n",
    "        \n",
    "        hidden = torch.cat([\n",
    "            gmp(hidden, batch_index),\n",
    "            gap(hidden, batch_index)\n",
    "        ], dim=1)\n",
    "\n",
    "        out = self.out(hidden)\n",
    "\n",
    "        return out, hidden\n",
    "    \n",
    "model = GCN()\n",
    "model.to('cuda' if torch.cuda.is_available() else 'cpu')\n",
    "print(model)"
   ]
  },
  {
   "cell_type": "code",
   "execution_count": 34,
   "id": "38932131",
   "metadata": {},
   "outputs": [],
   "source": [
    "from torch_geometric.loader import DataLoader\n",
    "\n",
    "loss_fn = nn.MSELoss()\n",
    "optimizer = torch.optim.Adam(model.parameters(), lr=0.0001)\n",
    "\n",
    "data_size = len(data)\n",
    "batch_size = 128\n",
    "train_loader = DataLoader(data[:int(data_size * 0.8)], batch_size=batch_size, shuffle=True)\n",
    "test_loader = DataLoader(data[int(data_size * 0.8):], batch_size=batch_size, shuffle=False)"
   ]
  },
  {
   "cell_type": "code",
   "execution_count": 45,
   "id": "6858f082",
   "metadata": {},
   "outputs": [
    {
     "name": "stdout",
     "output_type": "stream",
     "text": [
      "Training started...\n",
      "Epoch 0, Loss: 0.5618893913924694\n"
     ]
    },
    {
     "name": "stderr",
     "output_type": "stream",
     "text": [
      "/home/huangzy/miniconda3/envs/uplc/lib/python3.9/site-packages/torch_geometric/warnings.py:11: UserWarning: The usage of `scatter(reduce='max')` can be accelerated via the 'torch-scatter' package, but it was not found\n",
      "  warnings.warn(message)\n"
     ]
    },
    {
     "name": "stdout",
     "output_type": "stream",
     "text": [
      "Epoch 100, Loss: 0.5832422450184822\n",
      "Epoch 200, Loss: 0.5205188989639282\n",
      "Epoch 300, Loss: 0.5397921726107597\n",
      "Epoch 400, Loss: 0.515830509364605\n",
      "Epoch 500, Loss: 0.5400519482791424\n",
      "Epoch 600, Loss: 0.5500647611916065\n",
      "Epoch 700, Loss: 0.568241685628891\n",
      "Epoch 800, Loss: 0.5507400892674923\n",
      "Epoch 900, Loss: 0.5312607623636723\n",
      "Epoch 1000, Loss: 0.5201357193291187\n",
      "Epoch 1100, Loss: 0.5258869454264641\n",
      "Epoch 1200, Loss: 0.5192397274076939\n",
      "Epoch 1300, Loss: 0.4808469582349062\n",
      "Epoch 1400, Loss: 0.48389220610260963\n",
      "Epoch 1500, Loss: 0.5619260966777802\n",
      "Epoch 1600, Loss: 0.5048248916864395\n",
      "Epoch 1700, Loss: 0.531379908323288\n",
      "Epoch 1800, Loss: 0.565544456243515\n",
      "Epoch 1900, Loss: 0.4926394857466221\n",
      "Epoch 2000, Loss: 0.504949051886797\n",
      "Epoch 2100, Loss: 0.49416398629546165\n",
      "Epoch 2200, Loss: 0.4768538251519203\n",
      "Epoch 2300, Loss: 0.4772508144378662\n",
      "Epoch 2400, Loss: 0.4953153170645237\n",
      "Epoch 2500, Loss: 0.4802086800336838\n",
      "Epoch 2600, Loss: 0.5105177275836468\n",
      "Epoch 2700, Loss: 0.4755556248128414\n",
      "Epoch 2800, Loss: 0.5081578828394413\n",
      "Epoch 2900, Loss: 0.5079815201461315\n",
      "Epoch 3000, Loss: 0.49599673226475716\n",
      "Epoch 3100, Loss: 0.5039085559546947\n",
      "Epoch 3200, Loss: 0.45547327771782875\n",
      "Epoch 3300, Loss: 0.43732006289064884\n",
      "Epoch 3400, Loss: 0.4855192266404629\n",
      "Epoch 3500, Loss: 0.47011202573776245\n",
      "Epoch 3600, Loss: 0.46911992132663727\n",
      "Epoch 3700, Loss: 0.48380977287888527\n",
      "Epoch 3800, Loss: 0.457330547273159\n",
      "Epoch 3900, Loss: 0.4663091339170933\n",
      "Epoch 4000, Loss: 0.43717022240161896\n",
      "Epoch 4100, Loss: 0.4452912099659443\n",
      "Epoch 4200, Loss: 0.44722985103726387\n",
      "Epoch 4300, Loss: 0.46923116222023964\n",
      "Epoch 4400, Loss: 0.43989862129092216\n",
      "Epoch 4500, Loss: 0.4513818472623825\n",
      "Epoch 4600, Loss: 0.43926743045449257\n",
      "Epoch 4700, Loss: 0.4628223516047001\n",
      "Epoch 4800, Loss: 0.40889315865933895\n",
      "Epoch 4900, Loss: 0.43780817091464996\n"
     ]
    }
   ],
   "source": [
    "def train(data):\n",
    "    model.train()  # 设置为训练模式\n",
    "    total_loss = 0\n",
    "    for batch in train_loader:\n",
    "        optimizer.zero_grad()\n",
    "\n",
    "        # 关键修复：将输入数据转换为float类型\n",
    "        x = batch.x.float()\n",
    "        edge_index = batch.edge_index\n",
    "        batch_idx = batch.batch\n",
    "        y = batch.y.float()\n",
    "\n",
    "        x, edge_index, batch_idx, y = x.to('cuda'), edge_index.to('cuda'), batch_idx.to('cuda'), y.to('cuda')\n",
    "\n",
    "        pred, embeding = model(x, edge_index, batch_idx)\n",
    "        loss = torch.sqrt(loss_fn(pred, y))\n",
    "\n",
    "        loss.backward()\n",
    "        optimizer.step()\n",
    "        total_loss += loss.item()\n",
    "\n",
    "    return total_loss / len(train_loader), embeding\n",
    "\n",
    "print(\"Training started...\")\n",
    "losses = []\n",
    "for epoch in range(5000):\n",
    "    loss, h = train(data)\n",
    "    losses.append(loss)\n",
    "\n",
    "    if epoch % 100 == 0:\n",
    "        print(f'Epoch {epoch}, Loss: {loss}')"
   ]
  },
  {
   "cell_type": "code",
   "execution_count": 46,
   "id": "7c2ed54b",
   "metadata": {},
   "outputs": [
    {
     "data": {
      "image/png": "[encoded data removed]",
      "text/plain": [
       "<Figure size 640x480 with 1 Axes>"
      ]
     },
     "metadata": {},
     "output_type": "display_data"
    }
   ],
   "source": [
    "import seaborn as sns\n",
    "import matplotlib.pyplot as plt\n",
    "\n",
    "losses_float = [float(loss) for loss in losses]\n",
    "loss_indices = [i for i, l in enumerate(losses_float)]\n",
    "sns.lineplot(losses_float)\n",
    "plt.show()"
   ]
  },
  {
   "cell_type": "code",
   "execution_count": 50,
   "id": "741bd7eb",
   "metadata": {},
   "outputs": [
    {
     "name": "stdout",
     "output_type": "stream",
     "text": [
      "Test Loss: 0.7756483852863312\n"
     ]
    }
   ],
   "source": [
    "import pandas as pd\n",
    "\n",
    "# 推理\n",
    "def predict(data):\n",
    "    model.eval()  # 设置为评估模式\n",
    "    with torch.no_grad():\n",
    "        x = data.x.float().to('cuda')\n",
    "        edge_index = data.edge_index.to('cuda')\n",
    "        batch_idx = data.batch.to('cuda')\n",
    "\n",
    "        pred, _ = model(x, edge_index, batch_idx)\n",
    "        return pred.cpu().numpy()\n",
    "    \n",
    "# 修复测试函数\n",
    "def test(data):\n",
    "    model.eval()  # 设置为评估模式\n",
    "    \n",
    "    # 创建空的DataFrame来存储所有结果\n",
    "    all_results = []\n",
    "    \n",
    "    with torch.no_grad():\n",
    "        total_loss = 0\n",
    "        for batch in test_loader:\n",
    "            x = batch.x.float().to('cuda')\n",
    "            edge_index = batch.edge_index.to('cuda')\n",
    "            batch_idx = batch.batch.to('cuda')\n",
    "            y = batch.y.float().to('cuda')\n",
    "\n",
    "            pred, _ = model(x, edge_index, batch_idx)\n",
    "            loss = torch.sqrt(loss_fn(pred, y))\n",
    "            total_loss += loss.item()\n",
    "\n",
    "            # 修复：确保数据是1D的\n",
    "            smiles = batch.smiles\n",
    "            pred_values = pred.cpu().numpy().flatten()  # 确保是1D\n",
    "            actual_values = y.cpu().numpy().flatten()   # 确保是1D\n",
    "            \n",
    "            # 创建当前batch的结果\n",
    "            batch_results = pd.DataFrame({\n",
    "                'smiles': smiles,\n",
    "                'predicted': pred_values,\n",
    "                'actual': actual_values\n",
    "            })\n",
    "            \n",
    "            all_results.append(batch_results)\n",
    "\n",
    "        # 合并所有结果并保存\n",
    "        final_results = pd.concat(all_results, ignore_index=True)\n",
    "        final_results.to_csv('predictions.csv', index=False)\n",
    "        \n",
    "        return total_loss / len(test_loader)\n",
    "    \n",
    "test_loss = test(data)\n",
    "print(f'Test Loss: {test_loss}')"
   ]
  }
 ],
 "metadata": {
  "kernelspec": {
   "display_name": "uplc",
   "language": "python",
   "name": "python3"
  },
  "language_info": {
   "codemirror_mode": {
    "name": "ipython",
    "version": 3
   },
   "file_extension": ".py",
   "mimetype": "text/x-python",
   "name": "python",
   "nbconvert_exporter": "python",
   "pygments_lexer": "ipython3",
   "version": "3.9.23"
  }
 },
 "nbformat": 4,
 "nbformat_minor": 5
}
