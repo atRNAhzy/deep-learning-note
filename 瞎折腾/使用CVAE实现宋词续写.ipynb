{
 "cells": [
  {
   "cell_type": "markdown",
   "id": "428a0e1a",
   "metadata": {},
   "source": [
    "# 使用CVAE实现宋词续写"
   ]
  },
  {
   "cell_type": "markdown",
   "id": "bff2f8b9",
   "metadata": {},
   "source": [
    "数据集: [chinese-poetry/chinese-poetry: The most comprehensive database of Chinese poetry ](https://github.com/chinese-poetry/chinese-poetry)\n"
   ]
  },
  {
   "cell_type": "markdown",
   "id": "b0ee5afc",
   "metadata": {},
   "source": [
    "> 为什么会有这个项目：  \n",
    "> 花了很长时间终于彻底理解了ACT的模型部分，正好又看到苏剑林大佬写的VAE文章，讲得非常透彻，让我信心大增，想试着整点活。最近事情也告一段落，于是趁机摸鱼。这个项目花了三个多小时写完，改了几次模型结构但是基本没调参。后续让AI帮忙优化了一下代码，纯属娱乐，不要太在意效果（"
   ]
  },
  {
   "cell_type": "markdown",
   "id": "8ca52815",
   "metadata": {},
   "source": [
    "2025.7.30 改了采样的方式，现在不会全是“一”开头了"
   ]
  },
  {
   "cell_type": "code",
   "execution_count": 1,
   "id": "8b6ffb5c",
   "metadata": {},
   "outputs": [],
   "source": [
    "import os\n",
    "import json\n",
    "import torch\n",
    "import torch.nn as nn\n",
    "import torch.optim as optim\n",
    "from torch.utils.data import Dataset, DataLoader\n",
    "from tqdm import tqdm"
   ]
  },
  {
   "cell_type": "markdown",
   "id": "4ec1d355",
   "metadata": {},
   "source": [
    "## 1. 数据加载与预处理"
   ]
  },
  {
   "cell_type": "code",
   "execution_count": 2,
   "id": "4b509cf0",
   "metadata": {},
   "outputs": [
    {
     "name": "stdout",
     "output_type": "stream",
     "text": [
      "Loaded 1000 items from ci.song.15000.json\n",
      "Loaded 2000 items from ci.song.7000.json\n",
      "Loaded 3000 items from ci.song.3000.json\n",
      "Loaded 4000 items from ci.song.11000.json\n",
      "Loaded 4050 items from ci.song.21000.json\n",
      "Loaded 5050 items from ci.song.2000.json\n",
      "Loaded 6050 items from ci.song.17000.json\n",
      "Loaded 7050 items from ci.song.16000.json\n",
      "Loaded 8050 items from ci.song.18000.json\n",
      "Loaded 9050 items from ci.song.10000.json\n",
      "Loaded 10050 items from ci.song.6000.json\n",
      "Loaded 11050 items from ci.song.19000.json\n",
      "Loaded 12050 items from ci.song.8000.json\n",
      "Loaded 13050 items from ci.song.9000.json\n",
      "Loaded 14050 items from ci.song.4000.json\n",
      "Loaded 15050 items from ci.song.20000.json\n",
      "Loaded 16050 items from ci.song.0.json\n",
      "Loaded 17050 items from ci.song.13000.json\n",
      "Loaded 18050 items from ci.song.12000.json\n",
      "Loaded 19050 items from ci.song.5000.json\n",
      "Loaded 19053 items from ci.song.2019y.json\n",
      "Loaded 20053 items from ci.song.14000.json\n",
      "Loaded 21053 items from ci.song.1000.json\n"
     ]
    }
   ],
   "source": [
    "\n",
    "# 假设数据格式为 [{\"rhythmic\": \"水调歌头\", \"lines\": [\"明月几时有\", \"把酒问青天\", ...]}, ...]\n",
    "# 读取所有ci.song开头的json文件\n",
    "data_dir = './datas/宋词'  # 修改为你的数据文件夹路径\n",
    "all_data = []\n",
    "for fname in os.listdir(data_dir):\n",
    "    if fname.startswith('ci.song') and fname.endswith('.json'):\n",
    "        with open(os.path.join(data_dir, fname), encoding='utf-8') as f:\n",
    "            all_data.extend(json.load(f))\n",
    "            print(f\"Loaded {len(all_data)} items from {fname}\")\n",
    "\n",
    "# 构建词表\n",
    "lines = []\n",
    "rhythmic = set()\n",
    "for item in all_data:\n",
    "    rhythmic.add(item['rhythmic'])\n",
    "    for i in range(len(item['paragraphs']) - 1):\n",
    "        lines.append((item['rhythmic'], item['paragraphs'][i], item['paragraphs'][i+1]))\n",
    "\n",
    "# 字符级tokenizer\n",
    "from collections import Counter\n",
    "all_text = ''.join([l[1]+l[2] for l in lines])\n",
    "char_count = Counter(all_text)\n",
    "chars = ['<PAD>', '<BOS>', '<EOS>', '<UNK>'] + [c for c, _ in char_count.most_common()]\n",
    "char2idx = {c: i for i, c in enumerate(chars)}\n",
    "idx2char = {i: c for c, i in char2idx.items()}\n",
    "\n",
    "# 词牌名编码\n",
    "rhythmic2idx = {c: i for i, c in enumerate(sorted(list(rhythmic)))}\n",
    "idx2rhythmic = {i: c for c, i in rhythmic2idx.items()}\n",
    "\n",
    "def encode_line(line, max_len):\n",
    "    ids = [char2idx.get('<BOS>')]\n",
    "    for c in line:\n",
    "        ids.append(char2idx.get(c, char2idx['<UNK>']))\n",
    "    ids.append(char2idx.get('<EOS>'))\n",
    "    if len(ids) < max_len:\n",
    "        ids += [char2idx['<PAD>']] * (max_len - len(ids))\n",
    "    else:\n",
    "        ids = ids[:max_len]\n",
    "    return ids\n",
    "\n",
    "max_len = max(max(len(l[1]), len(l[2])) for l in lines) + 2  # +2 for BOS/EOS\n",
    "\n",
    "class SongLineDataset(Dataset):\n",
    "    def __init__(self, lines):\n",
    "        self.data = lines\n",
    "\n",
    "    def __len__(self):\n",
    "        return len(self.data)\n",
    "\n",
    "    def __getitem__(self, idx):\n",
    "        rhythmic, prev, next_ = self.data[idx]\n",
    "        return (\n",
    "            rhythmic2idx[rhythmic],\n",
    "            torch.tensor(encode_line(prev, max_len)),\n",
    "            torch.tensor(encode_line(next_, max_len))\n",
    "        )\n",
    "\n",
    "dataset = SongLineDataset(lines)\n",
    "dataloader = DataLoader(dataset, batch_size=64, shuffle=True)"
   ]
  },
  {
   "cell_type": "markdown",
   "id": "63c59161",
   "metadata": {},
   "source": [
    "## 2. CVAE模型定义\n"
   ]
  },
  {
   "cell_type": "code",
   "execution_count": 3,
   "id": "7f9f052e",
   "metadata": {},
   "outputs": [],
   "source": [
    "class Encoder(nn.Module):\n",
    "    def __init__(self, vocab_size, rhythmic_size, emb_dim, cond_dim, hidden_dim, latent_dim):\n",
    "        super().__init__()\n",
    "        self.char_emb = nn.Embedding(vocab_size, emb_dim)\n",
    "        self.rhythmic_emb = nn.Embedding(rhythmic_size, cond_dim)\n",
    "        self.rnn = nn.GRU(emb_dim + cond_dim, hidden_dim, batch_first=True)\n",
    "        self.linear_mu = nn.Linear(hidden_dim, latent_dim)\n",
    "        self.linear_logvar = nn.Linear(hidden_dim, latent_dim)\n",
    "\n",
    "    def forward(self, x, rhythmic):\n",
    "        x_emb = self.char_emb(x)\n",
    "        rhythmic_emb = self.rhythmic_emb(rhythmic).unsqueeze(1).expand(-1, x.size(1), -1)\n",
    "        inp = torch.cat([x_emb, rhythmic_emb], dim=-1)\n",
    "        _, h = self.rnn(inp)\n",
    "        h = h.squeeze(0)\n",
    "        mu = self.linear_mu(h)\n",
    "        logvar = self.linear_logvar(h)\n",
    "        return mu, logvar\n",
    "\n",
    "class Decoder(nn.Module):\n",
    "    def __init__(self, vocab_size, rhythmic_size, emb_dim, cond_dim, latent_dim, hidden_dim):\n",
    "        super().__init__()\n",
    "        self.char_emb = nn.Embedding(vocab_size, emb_dim)\n",
    "        self.rhythmic_emb = nn.Embedding(rhythmic_size, cond_dim)\n",
    "        self.latent2hidden = nn.Linear(latent_dim + cond_dim, hidden_dim)\n",
    "        self.rnn = nn.GRU(emb_dim + cond_dim, hidden_dim, batch_first=True)\n",
    "        self.out = nn.Linear(hidden_dim, vocab_size)\n",
    "\n",
    "    def forward(self, x, z, rhythmic):\n",
    "        rhythmic_emb = self.rhythmic_emb(rhythmic)\n",
    "        zc = torch.cat([z, rhythmic_emb], dim=-1)\n",
    "        h0 = self.latent2hidden(zc).unsqueeze(0)\n",
    "        x_emb = self.char_emb(x)\n",
    "        rhythmic_emb_seq = rhythmic_emb.unsqueeze(1).expand(-1, x.size(1), -1)\n",
    "        inp = torch.cat([x_emb, rhythmic_emb_seq], dim=-1)\n",
    "        out, _ = self.rnn(inp, h0)\n",
    "        logits = self.out(out)\n",
    "        return logits\n",
    "\n",
    "class CVAE(nn.Module):\n",
    "    def __init__(self, vocab_size, rhythmic_size, emb_dim=128, cond_dim=32, hidden_dim=256, latent_dim=64):\n",
    "        super().__init__()\n",
    "        self.encoder = Encoder(vocab_size, rhythmic_size, emb_dim, cond_dim, hidden_dim, latent_dim)\n",
    "        self.decoder = Decoder(vocab_size, rhythmic_size, emb_dim, cond_dim, latent_dim, hidden_dim)\n",
    "\n",
    "    def forward(self, prev_line, next_line, rhythmic):\n",
    "        mu, logvar = self.encoder(prev_line, rhythmic)\n",
    "        std = torch.exp(0.5 * logvar)\n",
    "        eps = torch.randn_like(std)\n",
    "        z = mu + eps * std\n",
    "        logits = self.decoder(next_line[:, :-1], z, rhythmic)\n",
    "        return logits, mu, logvar\n",
    "\n",
    "    def generate(self, prev_line, rhythmic, max_len=20, device='cpu'):\n",
    "        self.eval()\n",
    "        with torch.no_grad():\n",
    "            mu, logvar = self.encoder(prev_line, rhythmic)\n",
    "            z = mu  # 使用均值\n",
    "            input_seq = torch.tensor([[char2idx['<BOS>']]] * prev_line.size(0), device=device)\n",
    "            outputs = []\n",
    "            h = None\n",
    "            for _ in range(max_len):\n",
    "                logits = self.decoder(input_seq, z, rhythmic)\n",
    "                probs = torch.softmax(logits[:, -1, :], dim=-1)\n",
    "                next_token = torch.multinomial(probs, num_samples=1)\n",
    "                outputs.append(next_token)\n",
    "                input_seq = torch.cat([input_seq, next_token], dim=1)\n",
    "                if (next_token == char2idx['<EOS>']).all():\n",
    "                    break\n",
    "            outputs = torch.cat(outputs, dim=1)\n",
    "        return outputs"
   ]
  },
  {
   "cell_type": "markdown",
   "id": "d33f3bb2",
   "metadata": {},
   "source": [
    "## 3. 模型训练与推理"
   ]
  },
  {
   "cell_type": "code",
   "execution_count": 4,
   "id": "4d221f4d",
   "metadata": {},
   "outputs": [],
   "source": [
    "device = torch.device('cuda' if torch.cuda.is_available() else 'cpu')\n",
    "model = CVAE(len(char2idx), len(rhythmic2idx)).to(device)\n",
    "optimizer = optim.Adam(model.parameters(), lr=1e-3)\n",
    "loss_fn = nn.CrossEntropyLoss(ignore_index=char2idx['<PAD>'])"
   ]
  },
  {
   "cell_type": "code",
   "execution_count": 5,
   "id": "675a6358",
   "metadata": {},
   "outputs": [],
   "source": [
    "def decode_line(ids):\n",
    "    chars_ = []\n",
    "    for i in ids:\n",
    "        c = idx2char.get(i, '')\n",
    "        if c == '<EOS>':\n",
    "            break\n",
    "        if c not in ['<PAD>', '<BOS>', '<EOS>']:\n",
    "            chars_.append(c)\n",
    "    return ''.join(chars_)\n",
    "\n",
    "def predict_next_line(prev_line, rhythmic_name):\n",
    "    model.eval()\n",
    "    prev_ids = torch.tensor([encode_line(prev_line, max_len)], device=device)\n",
    "    rhythmic_id = torch.tensor([rhythmic2idx[rhythmic_name]], device=device)\n",
    "    out_ids = model.generate(prev_ids, rhythmic_id, max_len=max_len, device=device)\n",
    "    return decode_line(out_ids[0].cpu().numpy())"
   ]
  },
  {
   "cell_type": "code",
   "execution_count": 6,
   "id": "63799594",
   "metadata": {},
   "outputs": [
    {
     "name": "stderr",
     "output_type": "stream",
     "text": [
      "  0%|          | 0/2157 [00:00<?, ?it/s]"
     ]
    },
    {
     "name": "stderr",
     "output_type": "stream",
     "text": [
      "100%|██████████| 2157/2157 [00:45<00:00, 47.23it/s]\n"
     ]
    },
    {
     "name": "stdout",
     "output_type": "stream",
     "text": [
      "Epoch 1, Loss: 5.0770, loss_rec: 4.5186, loss_kl: 0.0027\n",
      "人有悲欢离合 (水调歌头) → 当戴韵，追下发，歌曲上，云岫脍，竟兰妩。\n"
     ]
    },
    {
     "name": "stderr",
     "output_type": "stream",
     "text": [
      "100%|██████████| 2157/2157 [00:45<00:00, 47.86it/s]\n"
     ]
    },
    {
     "name": "stdout",
     "output_type": "stream",
     "text": [
      "Epoch 2, Loss: 4.3971, loss_rec: 4.4270, loss_kl: 0.0006\n",
      "人有悲欢离合 (水调歌头) → 直到朝兵萍漠，应是沧溟鸥节，昭汊亦康朱。\n"
     ]
    },
    {
     "name": "stderr",
     "output_type": "stream",
     "text": [
      "100%|██████████| 2157/2157 [00:45<00:00, 47.85it/s]\n"
     ]
    },
    {
     "name": "stdout",
     "output_type": "stream",
     "text": [
      "Epoch 3, Loss: 4.1701, loss_rec: 4.2030, loss_kl: 0.0009\n",
      "人有悲欢离合 (水调歌头) → 自然素被，幕长一榻弄清香。\n"
     ]
    },
    {
     "name": "stderr",
     "output_type": "stream",
     "text": [
      "100%|██████████| 2157/2157 [00:44<00:00, 47.96it/s]\n"
     ]
    },
    {
     "name": "stdout",
     "output_type": "stream",
     "text": [
      "Epoch 4, Loss: 4.0371, loss_rec: 4.2336, loss_kl: 0.0006\n",
      "人有悲欢离合 (水调歌头) → 玉楼归觐浦，万斛丹青愧，人协俱怀。\n"
     ]
    },
    {
     "name": "stderr",
     "output_type": "stream",
     "text": [
      "100%|██████████| 2157/2157 [00:44<00:00, 48.00it/s]\n"
     ]
    },
    {
     "name": "stdout",
     "output_type": "stream",
     "text": [
      "Epoch 5, Loss: 3.9425, loss_rec: 3.9783, loss_kl: 0.0008\n",
      "人有悲欢离合 (水调歌头) → 门外静中夜子，料想云山如故，岁作夜深浮。\n"
     ]
    },
    {
     "name": "stderr",
     "output_type": "stream",
     "text": [
      "100%|██████████| 2157/2157 [00:44<00:00, 47.98it/s]\n"
     ]
    },
    {
     "name": "stdout",
     "output_type": "stream",
     "text": [
      "Epoch 6, Loss: 3.8702, loss_rec: 3.8406, loss_kl: 0.0007\n",
      "人有悲欢离合 (水调歌头) → 寿比新年继，晋宋与樽颜。\n"
     ]
    },
    {
     "name": "stderr",
     "output_type": "stream",
     "text": [
      "100%|██████████| 2157/2157 [00:44<00:00, 48.01it/s]\n"
     ]
    },
    {
     "name": "stdout",
     "output_type": "stream",
     "text": [
      "Epoch 7, Loss: 3.8120, loss_rec: 4.0450, loss_kl: 0.0011\n",
      "人有悲欢离合 (水调歌头) → 南舟寄远，奈命碧江濯发，才一步酸鸣。\n"
     ]
    },
    {
     "name": "stderr",
     "output_type": "stream",
     "text": [
      "100%|██████████| 2157/2157 [00:44<00:00, 48.07it/s]\n"
     ]
    },
    {
     "name": "stdout",
     "output_type": "stream",
     "text": [
      "Epoch 8, Loss: 3.7630, loss_rec: 4.0155, loss_kl: 0.0005\n",
      "人有悲欢离合 (水调歌头) → 唯有兰堂旧侣，临合梦中偏。\n"
     ]
    },
    {
     "name": "stderr",
     "output_type": "stream",
     "text": [
      "100%|██████████| 2157/2157 [00:44<00:00, 48.10it/s]\n"
     ]
    },
    {
     "name": "stdout",
     "output_type": "stream",
     "text": [
      "Epoch 9, Loss: 3.7215, loss_rec: 3.8232, loss_kl: 0.0009\n",
      "人有悲欢离合 (水调歌头) → 昼生虚席，知华独领即非贤。\n"
     ]
    },
    {
     "name": "stderr",
     "output_type": "stream",
     "text": [
      "100%|██████████| 2157/2157 [00:44<00:00, 48.12it/s]\n"
     ]
    },
    {
     "name": "stdout",
     "output_type": "stream",
     "text": [
      "Epoch 10, Loss: 3.6852, loss_rec: 3.7375, loss_kl: 0.0008\n",
      "人有悲欢离合 (水调歌头) → 堪笑蝉莼衮冕，堪叹忧谟战在，景致总关弥。\n"
     ]
    },
    {
     "name": "stderr",
     "output_type": "stream",
     "text": [
      "100%|██████████| 2157/2157 [00:44<00:00, 48.10it/s]\n"
     ]
    },
    {
     "name": "stdout",
     "output_type": "stream",
     "text": [
      "Epoch 11, Loss: 3.6531, loss_rec: 3.6829, loss_kl: 0.0006\n",
      "人有悲欢离合 (水调歌头) → 玉树教乌鹤，风露凝情溢。\n"
     ]
    },
    {
     "name": "stderr",
     "output_type": "stream",
     "text": [
      "100%|██████████| 2157/2157 [00:44<00:00, 48.14it/s]\n"
     ]
    },
    {
     "name": "stdout",
     "output_type": "stream",
     "text": [
      "Epoch 12, Loss: 3.6249, loss_rec: 3.6457, loss_kl: 0.0010\n",
      "人有悲欢离合 (水调歌头) → 淡月黄昏千仞，皎薄初乾三杰，欲向九霄丹。\n"
     ]
    },
    {
     "name": "stderr",
     "output_type": "stream",
     "text": [
      "100%|██████████| 2157/2157 [00:44<00:00, 48.06it/s]\n"
     ]
    },
    {
     "name": "stdout",
     "output_type": "stream",
     "text": [
      "Epoch 13, Loss: 3.5990, loss_rec: 3.5745, loss_kl: 0.0007\n",
      "人有悲欢离合 (水调歌头) → 银蟾净映立粲，翠冷断魂流。\n"
     ]
    },
    {
     "name": "stderr",
     "output_type": "stream",
     "text": [
      "100%|██████████| 2157/2157 [00:44<00:00, 48.06it/s]\n"
     ]
    },
    {
     "name": "stdout",
     "output_type": "stream",
     "text": [
      "Epoch 14, Loss: 3.5763, loss_rec: 3.9578, loss_kl: 0.0032\n",
      "人有悲欢离合 (水调歌头) → 梅冠紫芝田，气倒晚寒生。\n"
     ]
    },
    {
     "name": "stderr",
     "output_type": "stream",
     "text": [
      "100%|██████████| 2157/2157 [00:44<00:00, 48.07it/s]\n"
     ]
    },
    {
     "name": "stdout",
     "output_type": "stream",
     "text": [
      "Epoch 15, Loss: 3.5579, loss_rec: 3.9676, loss_kl: 0.0177\n",
      "人有悲欢离合 (水调歌头) → 滚滚秦淮月白，灯影漾流光。\n"
     ]
    },
    {
     "name": "stderr",
     "output_type": "stream",
     "text": [
      "100%|██████████| 2157/2157 [00:44<00:00, 48.06it/s]\n"
     ]
    },
    {
     "name": "stdout",
     "output_type": "stream",
     "text": [
      "Epoch 16, Loss: 3.5368, loss_rec: 3.5377, loss_kl: 0.0151\n",
      "人有悲欢离合 (水调歌头) → 似铁滩皮石，阴影几曾哀。\n"
     ]
    },
    {
     "name": "stderr",
     "output_type": "stream",
     "text": [
      "100%|██████████| 2157/2157 [00:44<00:00, 48.01it/s]\n"
     ]
    },
    {
     "name": "stdout",
     "output_type": "stream",
     "text": [
      "Epoch 17, Loss: 3.5193, loss_rec: 3.5866, loss_kl: 0.0176\n",
      "人有悲欢离合 (水调歌头) → 重游得丧，举手膝下应相贤。\n"
     ]
    },
    {
     "name": "stderr",
     "output_type": "stream",
     "text": [
      "100%|██████████| 2157/2157 [00:44<00:00, 48.12it/s]\n"
     ]
    },
    {
     "name": "stdout",
     "output_type": "stream",
     "text": [
      "Epoch 18, Loss: 3.5033, loss_rec: 3.5097, loss_kl: 0.0126\n",
      "人有悲欢离合 (水调歌头) → 谁经重拜，迂岁朝觐照崔嵬。\n"
     ]
    },
    {
     "name": "stderr",
     "output_type": "stream",
     "text": [
      "100%|██████████| 2157/2157 [00:44<00:00, 48.02it/s]\n"
     ]
    },
    {
     "name": "stdout",
     "output_type": "stream",
     "text": [
      "Epoch 19, Loss: 3.4876, loss_rec: 3.7436, loss_kl: 0.0115\n",
      "人有悲欢离合 (水调歌头) → 不知天不尘，清夜永，庭青渚。\n"
     ]
    },
    {
     "name": "stderr",
     "output_type": "stream",
     "text": [
      "100%|██████████| 2157/2157 [00:44<00:00, 48.03it/s]"
     ]
    },
    {
     "name": "stdout",
     "output_type": "stream",
     "text": [
      "Epoch 20, Loss: 3.4744, loss_rec: 3.4385, loss_kl: 0.0167\n",
      "人有悲欢离合 (水调歌头) → 醉眠狂客醒，满酌佩红扬。\n"
     ]
    },
    {
     "name": "stderr",
     "output_type": "stream",
     "text": [
      "\n"
     ]
    }
   ],
   "source": [
    "def kl_loss(mu, logvar):\n",
    "    return -0.5 * torch.sum(1 + logvar - mu.pow(2) - logvar.exp(), dim=1).mean()\n",
    "\n",
    "epochs = 20\n",
    "for epoch in range(epochs):\n",
    "    model.train()\n",
    "    total_loss = 0\n",
    "    for rhythmic, prev, next_ in tqdm(dataloader):\n",
    "        rhythmic = rhythmic.to(device)\n",
    "        prev = prev.to(device)\n",
    "        next_ = next_.to(device)\n",
    "        logits, mu, logvar = model(prev, next_, rhythmic)\n",
    "        loss_rec = loss_fn(logits.reshape(-1, logits.size(-1)), next_[:,1:].reshape(-1))\n",
    "        loss_kl = kl_loss(mu, logvar)\n",
    "        loss = loss_rec + 0.1 * loss_kl\n",
    "        optimizer.zero_grad()\n",
    "        loss.backward()\n",
    "        optimizer.step()\n",
    "        total_loss += loss.item()\n",
    "    print(f\"Epoch {epoch+1}, Loss: {total_loss/len(dataloader):.4f}, loss_rec: {loss_rec.item():.4f}, loss_kl: {loss_kl.item():.4f}\")\n",
    "    print(f\"人有悲欢离合 (水调歌头) → {predict_next_line('人有悲欢离合', '水调歌头')}\")  "
   ]
  },
  {
   "cell_type": "code",
   "execution_count": 7,
   "id": "e84d8f3a",
   "metadata": {},
   "outputs": [
    {
     "name": "stdout",
     "output_type": "stream",
     "text": [
      "人有悲欢离合 (水调歌头) → 愁恐醒时知减，成后扫春休。\n",
      "了却君王天下事 (破阵子) → 不似鱼金累累累。\n",
      "稻花香里说丰年 (西江月) → 高致宜怀旧处，得烦儿孙戏剧。\n",
      "众里寻他千百度 (青玉案) → 冠儿茉莉，芙蓉戏彩，唾香沾雨。\n",
      "江晚正愁余 (菩萨蛮) → 月寒多少情。\n",
      "争渡争渡 (如梦令) → 休恼。\n",
      "我想下班 (水调歌头) → 箫鼓地横水，佳处甚云踪。\n",
      "怎么还有一个小时才下班 (破阵子) → 亲将前后金銮句，应寄南窗写一鞭。\n",
      "怎么还有三天才周末 (西江月) → 我亦何须语后，何妨到此清闲。\n",
      "原来周二才是最难熬的 (青玉案) → 夜来何事，早翻马、先成偶。\n"
     ]
    }
   ],
   "source": [
    "tests = [\n",
    "    ('人有悲欢离合', '水调歌头'),\n",
    "    ('了却君王天下事', '破阵子'),\n",
    "    ('稻花香里说丰年', '西江月'),\n",
    "    ('众里寻他千百度', '青玉案'),\n",
    "    ('江晚正愁余', '菩萨蛮'),\n",
    "    ('争渡争渡', '如梦令'),\n",
    "    ('我想下班', '水调歌头'),\n",
    "    ('怎么还有一个小时才下班', '破阵子'),\n",
    "    ('怎么还有三天才周末', '西江月'),\n",
    "    ('原来周二才是最难熬的', '青玉案')]\n",
    "\n",
    "\n",
    "for prev_line, rhythmic_name in tests:\n",
    "    print(f\"{prev_line} ({rhythmic_name}) → {predict_next_line(prev_line, rhythmic_name)}\")"
   ]
  }
 ],
 "metadata": {
  "kernelspec": {
   "display_name": "uplc",
   "language": "python",
   "name": "python3"
  },
  "language_info": {
   "codemirror_mode": {
    "name": "ipython",
    "version": 3
   },
   "file_extension": ".py",
   "mimetype": "text/x-python",
   "name": "python",
   "nbconvert_exporter": "python",
   "pygments_lexer": "ipython3",
   "version": "3.9.23"
  }
 },
 "nbformat": 4,
 "nbformat_minor": 5
}
